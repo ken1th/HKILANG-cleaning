{
  "nbformat": 4,
  "nbformat_minor": 0,
  "metadata": {
    "colab": {
      "provenance": []
    },
    "kernelspec": {
      "name": "python3",
      "display_name": "Python 3"
    },
    "language_info": {
      "name": "python"
    }
  },
  "cells": [
    {
      "cell_type": "code",
      "source": [
        "pip install unidecode\n"
      ],
      "metadata": {
        "colab": {
          "base_uri": "https://localhost:8080/"
        },
        "id": "ucAKTdJhsi9D",
        "outputId": "65639e4f-8e91-4f74-bf59-31242926c728"
      },
      "execution_count": 2,
      "outputs": [
        {
          "output_type": "stream",
          "name": "stdout",
          "text": [
            "Looking in indexes: https://pypi.org/simple, https://us-python.pkg.dev/colab-wheels/public/simple/\n",
            "Collecting unidecode\n",
            "  Downloading Unidecode-1.3.6-py3-none-any.whl (235 kB)\n",
            "\u001b[K     |████████████████████████████████| 235 kB 5.1 MB/s \n",
            "\u001b[?25hInstalling collected packages: unidecode\n",
            "Successfully installed unidecode-1.3.6\n"
          ]
        }
      ]
    },
    {
      "cell_type": "code",
      "source": [
        "import csv\n",
        "import re\n",
        "\n",
        "def remove_diacritics(text):\n",
        "  # Remove all diacritic characters from the text\n",
        "  text = re.sub(r'[\\u0300-\\u036f]', '', text)\n",
        "  return text\n",
        "\n",
        "# Open the input CSV file\n",
        "with open('data.csv', 'r', encoding='utf-8') as csv_in:\n",
        "  # Create a CSV reader\n",
        "  reader = csv.reader(csv_in)\n",
        "  \n",
        "  # Open the output CSV file\n",
        "  with open('data2.csv', 'w', encoding='utf-8') as csv_out:\n",
        "    # Create a CSV writer\n",
        "    writer = csv.writer(csv_out)\n",
        "    \n",
        "    # Iterate over the rows in the input CSV file\n",
        "    for row in reader:\n",
        "      # Remove diacritic characters from each cell in the row\n",
        "      row = [remove_diacritics(cell) for cell in row]\n",
        "      \n",
        "      # Write the modified row to the output CSV file\n",
        "      writer.writerow(row)\n"
      ],
      "metadata": {
        "id": "Qdc9hTGHssXh"
      },
      "execution_count": 6,
      "outputs": []
    }
  ]
}